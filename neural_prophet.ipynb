{
  "nbformat": 4,
  "nbformat_minor": 0,
  "metadata": {
    "colab": {
      "provenance": []
    },
    "kernelspec": {
      "name": "python3",
      "display_name": "Python 3"
    },
    "language_info": {
      "name": "python"
    },
    "widgets": {
      "application/vnd.jupyter.widget-state+json": {
        "61c68dc452e040f59f45d2563de629fd": {
          "model_module": "@jupyter-widgets/controls",
          "model_name": "HBoxModel",
          "model_module_version": "1.5.0",
          "state": {
            "_dom_classes": [],
            "_model_module": "@jupyter-widgets/controls",
            "_model_module_version": "1.5.0",
            "_model_name": "HBoxModel",
            "_view_count": null,
            "_view_module": "@jupyter-widgets/controls",
            "_view_module_version": "1.5.0",
            "_view_name": "HBoxView",
            "box_style": "",
            "children": [
              "IPY_MODEL_e63b6fe391e5401d893bf4e4d53536f3",
              "IPY_MODEL_694471f7c1d54da3b711a70ae36a94e9",
              "IPY_MODEL_0b2b2e82fe7d4344a055ced44bcdd028"
            ],
            "layout": "IPY_MODEL_9577ab0be4ba48babfff8465c6f55539"
          }
        },
        "e63b6fe391e5401d893bf4e4d53536f3": {
          "model_module": "@jupyter-widgets/controls",
          "model_name": "HTMLModel",
          "model_module_version": "1.5.0",
          "state": {
            "_dom_classes": [],
            "_model_module": "@jupyter-widgets/controls",
            "_model_module_version": "1.5.0",
            "_model_name": "HTMLModel",
            "_view_count": null,
            "_view_module": "@jupyter-widgets/controls",
            "_view_module_version": "1.5.0",
            "_view_name": "HTMLView",
            "description": "",
            "description_tooltip": null,
            "layout": "IPY_MODEL_04892956e0e94c489c32f36354ae954f",
            "placeholder": "​",
            "style": "IPY_MODEL_ed36ed6c2e50443488859555c8754ab1",
            "value": "Finding best initial lr: 100%"
          }
        },
        "694471f7c1d54da3b711a70ae36a94e9": {
          "model_module": "@jupyter-widgets/controls",
          "model_name": "FloatProgressModel",
          "model_module_version": "1.5.0",
          "state": {
            "_dom_classes": [],
            "_model_module": "@jupyter-widgets/controls",
            "_model_module_version": "1.5.0",
            "_model_name": "FloatProgressModel",
            "_view_count": null,
            "_view_module": "@jupyter-widgets/controls",
            "_view_module_version": "1.5.0",
            "_view_name": "ProgressView",
            "bar_style": "",
            "description": "",
            "description_tooltip": null,
            "layout": "IPY_MODEL_aa8831e3ea7b41c8b19eca93e295623b",
            "max": 216,
            "min": 0,
            "orientation": "horizontal",
            "style": "IPY_MODEL_bd4384b824834e2c901c3193a71ea632",
            "value": 216
          }
        },
        "0b2b2e82fe7d4344a055ced44bcdd028": {
          "model_module": "@jupyter-widgets/controls",
          "model_name": "HTMLModel",
          "model_module_version": "1.5.0",
          "state": {
            "_dom_classes": [],
            "_model_module": "@jupyter-widgets/controls",
            "_model_module_version": "1.5.0",
            "_model_name": "HTMLModel",
            "_view_count": null,
            "_view_module": "@jupyter-widgets/controls",
            "_view_module_version": "1.5.0",
            "_view_name": "HTMLView",
            "description": "",
            "description_tooltip": null,
            "layout": "IPY_MODEL_83510dd002984ffc819b406864ea22f5",
            "placeholder": "​",
            "style": "IPY_MODEL_acebdca3de5f42549c7fde7a0ccfddc6",
            "value": " 216/216 [00:03&lt;00:00, 60.22it/s]"
          }
        },
        "9577ab0be4ba48babfff8465c6f55539": {
          "model_module": "@jupyter-widgets/base",
          "model_name": "LayoutModel",
          "model_module_version": "1.2.0",
          "state": {
            "_model_module": "@jupyter-widgets/base",
            "_model_module_version": "1.2.0",
            "_model_name": "LayoutModel",
            "_view_count": null,
            "_view_module": "@jupyter-widgets/base",
            "_view_module_version": "1.2.0",
            "_view_name": "LayoutView",
            "align_content": null,
            "align_items": null,
            "align_self": null,
            "border": null,
            "bottom": null,
            "display": null,
            "flex": null,
            "flex_flow": null,
            "grid_area": null,
            "grid_auto_columns": null,
            "grid_auto_flow": null,
            "grid_auto_rows": null,
            "grid_column": null,
            "grid_gap": null,
            "grid_row": null,
            "grid_template_areas": null,
            "grid_template_columns": null,
            "grid_template_rows": null,
            "height": null,
            "justify_content": null,
            "justify_items": null,
            "left": null,
            "margin": null,
            "max_height": null,
            "max_width": null,
            "min_height": null,
            "min_width": null,
            "object_fit": null,
            "object_position": null,
            "order": null,
            "overflow": null,
            "overflow_x": null,
            "overflow_y": null,
            "padding": null,
            "right": null,
            "top": null,
            "visibility": null,
            "width": null
          }
        },
        "04892956e0e94c489c32f36354ae954f": {
          "model_module": "@jupyter-widgets/base",
          "model_name": "LayoutModel",
          "model_module_version": "1.2.0",
          "state": {
            "_model_module": "@jupyter-widgets/base",
            "_model_module_version": "1.2.0",
            "_model_name": "LayoutModel",
            "_view_count": null,
            "_view_module": "@jupyter-widgets/base",
            "_view_module_version": "1.2.0",
            "_view_name": "LayoutView",
            "align_content": null,
            "align_items": null,
            "align_self": null,
            "border": null,
            "bottom": null,
            "display": null,
            "flex": null,
            "flex_flow": null,
            "grid_area": null,
            "grid_auto_columns": null,
            "grid_auto_flow": null,
            "grid_auto_rows": null,
            "grid_column": null,
            "grid_gap": null,
            "grid_row": null,
            "grid_template_areas": null,
            "grid_template_columns": null,
            "grid_template_rows": null,
            "height": null,
            "justify_content": null,
            "justify_items": null,
            "left": null,
            "margin": null,
            "max_height": null,
            "max_width": null,
            "min_height": null,
            "min_width": null,
            "object_fit": null,
            "object_position": null,
            "order": null,
            "overflow": null,
            "overflow_x": null,
            "overflow_y": null,
            "padding": null,
            "right": null,
            "top": null,
            "visibility": null,
            "width": null
          }
        },
        "ed36ed6c2e50443488859555c8754ab1": {
          "model_module": "@jupyter-widgets/controls",
          "model_name": "DescriptionStyleModel",
          "model_module_version": "1.5.0",
          "state": {
            "_model_module": "@jupyter-widgets/controls",
            "_model_module_version": "1.5.0",
            "_model_name": "DescriptionStyleModel",
            "_view_count": null,
            "_view_module": "@jupyter-widgets/base",
            "_view_module_version": "1.2.0",
            "_view_name": "StyleView",
            "description_width": ""
          }
        },
        "aa8831e3ea7b41c8b19eca93e295623b": {
          "model_module": "@jupyter-widgets/base",
          "model_name": "LayoutModel",
          "model_module_version": "1.2.0",
          "state": {
            "_model_module": "@jupyter-widgets/base",
            "_model_module_version": "1.2.0",
            "_model_name": "LayoutModel",
            "_view_count": null,
            "_view_module": "@jupyter-widgets/base",
            "_view_module_version": "1.2.0",
            "_view_name": "LayoutView",
            "align_content": null,
            "align_items": null,
            "align_self": null,
            "border": null,
            "bottom": null,
            "display": null,
            "flex": null,
            "flex_flow": null,
            "grid_area": null,
            "grid_auto_columns": null,
            "grid_auto_flow": null,
            "grid_auto_rows": null,
            "grid_column": null,
            "grid_gap": null,
            "grid_row": null,
            "grid_template_areas": null,
            "grid_template_columns": null,
            "grid_template_rows": null,
            "height": null,
            "justify_content": null,
            "justify_items": null,
            "left": null,
            "margin": null,
            "max_height": null,
            "max_width": null,
            "min_height": null,
            "min_width": null,
            "object_fit": null,
            "object_position": null,
            "order": null,
            "overflow": null,
            "overflow_x": null,
            "overflow_y": null,
            "padding": null,
            "right": null,
            "top": null,
            "visibility": null,
            "width": null
          }
        },
        "bd4384b824834e2c901c3193a71ea632": {
          "model_module": "@jupyter-widgets/controls",
          "model_name": "ProgressStyleModel",
          "model_module_version": "1.5.0",
          "state": {
            "_model_module": "@jupyter-widgets/controls",
            "_model_module_version": "1.5.0",
            "_model_name": "ProgressStyleModel",
            "_view_count": null,
            "_view_module": "@jupyter-widgets/base",
            "_view_module_version": "1.2.0",
            "_view_name": "StyleView",
            "bar_color": null,
            "description_width": ""
          }
        },
        "83510dd002984ffc819b406864ea22f5": {
          "model_module": "@jupyter-widgets/base",
          "model_name": "LayoutModel",
          "model_module_version": "1.2.0",
          "state": {
            "_model_module": "@jupyter-widgets/base",
            "_model_module_version": "1.2.0",
            "_model_name": "LayoutModel",
            "_view_count": null,
            "_view_module": "@jupyter-widgets/base",
            "_view_module_version": "1.2.0",
            "_view_name": "LayoutView",
            "align_content": null,
            "align_items": null,
            "align_self": null,
            "border": null,
            "bottom": null,
            "display": null,
            "flex": null,
            "flex_flow": null,
            "grid_area": null,
            "grid_auto_columns": null,
            "grid_auto_flow": null,
            "grid_auto_rows": null,
            "grid_column": null,
            "grid_gap": null,
            "grid_row": null,
            "grid_template_areas": null,
            "grid_template_columns": null,
            "grid_template_rows": null,
            "height": null,
            "justify_content": null,
            "justify_items": null,
            "left": null,
            "margin": null,
            "max_height": null,
            "max_width": null,
            "min_height": null,
            "min_width": null,
            "object_fit": null,
            "object_position": null,
            "order": null,
            "overflow": null,
            "overflow_x": null,
            "overflow_y": null,
            "padding": null,
            "right": null,
            "top": null,
            "visibility": null,
            "width": null
          }
        },
        "acebdca3de5f42549c7fde7a0ccfddc6": {
          "model_module": "@jupyter-widgets/controls",
          "model_name": "DescriptionStyleModel",
          "model_module_version": "1.5.0",
          "state": {
            "_model_module": "@jupyter-widgets/controls",
            "_model_module_version": "1.5.0",
            "_model_name": "DescriptionStyleModel",
            "_view_count": null,
            "_view_module": "@jupyter-widgets/base",
            "_view_module_version": "1.2.0",
            "_view_name": "StyleView",
            "description_width": ""
          }
        }
      }
    }
  },
  "cells": [
    {
      "cell_type": "code",
      "execution_count": 17,
      "metadata": {
        "colab": {
          "base_uri": "https://localhost:8080/"
        },
        "id": "GSzO5MQ6LEQQ",
        "outputId": "298f6aae-fa2c-4438-c7ec-6256df10ea47"
      },
      "outputs": [
        {
          "output_type": "stream",
          "name": "stdout",
          "text": [
            "Epoch 1/50\n",
            "11/11 [==============================] - 6s 36ms/step - loss: 0.0313\n",
            "Epoch 2/50\n",
            "11/11 [==============================] - 0s 38ms/step - loss: 0.0192\n",
            "Epoch 3/50\n",
            "11/11 [==============================] - 1s 56ms/step - loss: 0.0180\n",
            "Epoch 4/50\n",
            "11/11 [==============================] - 1s 61ms/step - loss: 0.0170\n",
            "Epoch 5/50\n",
            "11/11 [==============================] - 1s 66ms/step - loss: 0.0171\n",
            "Epoch 6/50\n",
            "11/11 [==============================] - 1s 60ms/step - loss: 0.0165\n",
            "Epoch 7/50\n",
            "11/11 [==============================] - 1s 60ms/step - loss: 0.0169\n",
            "Epoch 8/50\n",
            "11/11 [==============================] - 1s 62ms/step - loss: 0.0171\n",
            "Epoch 9/50\n",
            "11/11 [==============================] - 1s 60ms/step - loss: 0.0163\n",
            "Epoch 10/50\n",
            "11/11 [==============================] - 1s 62ms/step - loss: 0.0159\n",
            "Epoch 11/50\n",
            "11/11 [==============================] - 1s 62ms/step - loss: 0.0161\n",
            "Epoch 12/50\n",
            "11/11 [==============================] - 1s 63ms/step - loss: 0.0158\n",
            "Epoch 13/50\n",
            "11/11 [==============================] - 0s 42ms/step - loss: 0.0157\n",
            "Epoch 14/50\n",
            "11/11 [==============================] - 0s 36ms/step - loss: 0.0155\n",
            "Epoch 15/50\n",
            "11/11 [==============================] - 0s 38ms/step - loss: 0.0153\n",
            "Epoch 16/50\n",
            "11/11 [==============================] - 0s 37ms/step - loss: 0.0154\n",
            "Epoch 17/50\n",
            "11/11 [==============================] - 0s 36ms/step - loss: 0.0152\n",
            "Epoch 18/50\n",
            "11/11 [==============================] - 0s 37ms/step - loss: 0.0165\n",
            "Epoch 19/50\n",
            "11/11 [==============================] - 0s 37ms/step - loss: 0.0153\n",
            "Epoch 20/50\n",
            "11/11 [==============================] - 0s 38ms/step - loss: 0.0150\n",
            "Epoch 21/50\n",
            "11/11 [==============================] - 0s 39ms/step - loss: 0.0154\n",
            "Epoch 22/50\n",
            "11/11 [==============================] - 0s 37ms/step - loss: 0.0151\n",
            "Epoch 23/50\n",
            "11/11 [==============================] - 0s 39ms/step - loss: 0.0155\n",
            "Epoch 24/50\n",
            "11/11 [==============================] - 0s 40ms/step - loss: 0.0152\n",
            "Epoch 25/50\n",
            "11/11 [==============================] - 0s 37ms/step - loss: 0.0159\n",
            "Epoch 26/50\n",
            "11/11 [==============================] - 0s 38ms/step - loss: 0.0150\n",
            "Epoch 27/50\n",
            "11/11 [==============================] - 0s 40ms/step - loss: 0.0151\n",
            "Epoch 28/50\n",
            "11/11 [==============================] - 0s 42ms/step - loss: 0.0147\n",
            "Epoch 29/50\n",
            "11/11 [==============================] - 0s 39ms/step - loss: 0.0146\n",
            "Epoch 30/50\n",
            "11/11 [==============================] - 0s 38ms/step - loss: 0.0148\n",
            "Epoch 31/50\n",
            "11/11 [==============================] - 0s 38ms/step - loss: 0.0146\n",
            "Epoch 32/50\n",
            "11/11 [==============================] - 0s 36ms/step - loss: 0.0144\n",
            "Epoch 33/50\n",
            "11/11 [==============================] - 0s 37ms/step - loss: 0.0143\n",
            "Epoch 34/50\n",
            "11/11 [==============================] - 0s 35ms/step - loss: 0.0145\n",
            "Epoch 35/50\n",
            "11/11 [==============================] - 0s 36ms/step - loss: 0.0142\n",
            "Epoch 36/50\n",
            "11/11 [==============================] - 0s 41ms/step - loss: 0.0152\n",
            "Epoch 37/50\n",
            "11/11 [==============================] - 1s 60ms/step - loss: 0.0142\n",
            "Epoch 38/50\n",
            "11/11 [==============================] - 1s 57ms/step - loss: 0.0144\n",
            "Epoch 39/50\n",
            "11/11 [==============================] - 1s 64ms/step - loss: 0.0140\n",
            "Epoch 40/50\n",
            "11/11 [==============================] - 1s 63ms/step - loss: 0.0149\n",
            "Epoch 41/50\n",
            "11/11 [==============================] - 1s 64ms/step - loss: 0.0140\n",
            "Epoch 42/50\n",
            "11/11 [==============================] - 1s 63ms/step - loss: 0.0141\n",
            "Epoch 43/50\n",
            "11/11 [==============================] - 1s 64ms/step - loss: 0.0168\n",
            "Epoch 44/50\n",
            "11/11 [==============================] - 1s 64ms/step - loss: 0.0142\n",
            "Epoch 45/50\n",
            "11/11 [==============================] - 1s 65ms/step - loss: 0.0138\n",
            "Epoch 46/50\n",
            "11/11 [==============================] - 0s 41ms/step - loss: 0.0134\n",
            "Epoch 47/50\n",
            "11/11 [==============================] - 0s 35ms/step - loss: 0.0134\n",
            "Epoch 48/50\n",
            "11/11 [==============================] - 0s 38ms/step - loss: 0.0135\n",
            "Epoch 49/50\n",
            "11/11 [==============================] - 0s 38ms/step - loss: 0.0131\n",
            "Epoch 50/50\n",
            "11/11 [==============================] - 0s 39ms/step - loss: 0.0131\n",
            "1/1 [==============================] - 1s 936ms/step\n",
            "1/1 [==============================] - 1s 926ms/step\n",
            "1/1 [==============================] - 0s 36ms/step\n",
            "1/1 [==============================] - 0s 31ms/step\n",
            "1/1 [==============================] - 0s 29ms/step\n",
            "1/1 [==============================] - 0s 29ms/step\n",
            "1/1 [==============================] - 0s 48ms/step\n",
            "1/1 [==============================] - 0s 84ms/step\n",
            "1/1 [==============================] - 0s 105ms/step\n",
            "1/1 [==============================] - 0s 74ms/step\n",
            "1/1 [==============================] - 0s 107ms/step\n",
            "1/1 [==============================] - 0s 106ms/step\n",
            "1/1 [==============================] - 0s 58ms/step\n",
            "1/1 [==============================] - 0s 58ms/step\n",
            "1/1 [==============================] - 0s 119ms/step\n",
            "1/1 [==============================] - 0s 169ms/step\n",
            "1/1 [==============================] - 0s 136ms/step\n",
            "1/1 [==============================] - 0s 171ms/step\n",
            "1/1 [==============================] - 0s 244ms/step\n",
            "1/1 [==============================] - 0s 51ms/step\n",
            "1/1 [==============================] - 0s 49ms/step\n",
            "1/1 [==============================] - 0s 51ms/step\n",
            "1/1 [==============================] - 0s 50ms/step\n",
            "1/1 [==============================] - 0s 46ms/step\n",
            "1/1 [==============================] - 0s 54ms/step\n",
            "1/1 [==============================] - 0s 45ms/step\n",
            "1/1 [==============================] - 0s 47ms/step\n",
            "1/1 [==============================] - 0s 48ms/step\n",
            "1/1 [==============================] - 0s 46ms/step\n",
            "1/1 [==============================] - 0s 76ms/step\n",
            "[2909408.26386851 3075249.97923988 3209946.29243958 3306864.66961764\n",
            " 3376323.96171412 3428885.26972083 3472379.02757125 3511884.4206207\n",
            " 3550328.19662376 3589126.86478066 3628739.89361659 3669088.01646708\n",
            " 3709838.03521279 3750584.43828609 3790952.03014189 3830637.09429744\n",
            " 3869427.14046628 3907189.22315503 3943855.20084514 3979407.27330317\n",
            " 4013855.73128909 4047233.6721119  4079582.25881139 4110944.04507059\n",
            " 4141361.30644387 4170872.98094184 4199513.55651675 4227312.23667657\n",
            " 4254297.3905433  4280489.32150819]\n"
          ]
        }
      ],
      "source": [
        "import numpy as np\n",
        "import pandas as pd\n",
        "from sklearn.preprocessing import MinMaxScaler\n",
        "from keras.models import Sequential\n",
        "from keras.layers import Dense, LSTM\n",
        "import matplotlib.pyplot as plt\n",
        "\n",
        "# Load the time series data\n",
        "data = pd.read_csv(\"/content/active_market_walletvs sales in usd.csv\")  # Replace with the actual file name or path\n",
        "\n",
        "# Select only the 'DateTime' and 'Sales USD' columns\n",
        "data = data[['DateTime', 'Sales USD']]\n",
        "\n",
        "# Convert 'DateTime' column to datetime format\n",
        "data['DateTime'] = pd.to_datetime(data['DateTime'])\n",
        "\n",
        "# Set 'DateTime' column as the index\n",
        "data.set_index('DateTime', inplace=True)\n",
        "\n",
        "# Normalize the 'Sales USD' values using Min-Max scaling\n",
        "scaler = MinMaxScaler(feature_range=(0, 1))\n",
        "scaled_data = scaler.fit_transform(data)\n",
        "\n",
        "# Prepare the training data\n",
        "sequence_length = 30  # Number of previous days to consider for prediction\n",
        "X_train, y_train = [], []\n",
        "\n",
        "for i in range(sequence_length, len(data)):\n",
        "    X_train.append(scaled_data[i-sequence_length:i, 0])\n",
        "    y_train.append(scaled_data[i, 0])\n",
        "\n",
        "X_train, y_train = np.array(X_train), np.array(y_train)\n",
        "\n",
        "# Reshape the input data to match the expected input shape of the LSTM model\n",
        "X_train = np.reshape(X_train, (X_train.shape[0], X_train.shape[1], 1))\n",
        "\n",
        "# Build the LSTM model\n",
        "model = Sequential()\n",
        "model.add(LSTM(units=50, return_sequences=True, input_shape=(X_train.shape[1], 1)))\n",
        "model.add(LSTM(units=50))\n",
        "\n",
        "model.add(Dense(units=1))\n",
        "\n",
        "# Compile the model\n",
        "model.compile(optimizer='adam', loss='mean_squared_error')\n",
        "\n",
        "# Train the model\n",
        "model.fit(X_train, y_train, epochs=50, batch_size=32)\n",
        "\n",
        "# Prepare the input data for prediction\n",
        "last_sequence = scaled_data[-sequence_length:]\n",
        "X_pred = np.array([last_sequence])\n",
        "X_pred = np.reshape(X_pred, (X_pred.shape[0], X_pred.shape[1], 1))\n",
        "\n",
        "# Make predictions for the next 30 days\n",
        "predictions = []\n",
        "for _ in range(30):\n",
        "    prediction = model.predict(X_pred)\n",
        "    predictions.append(prediction[0, 0])\n",
        "    X_pred = np.append(X_pred, [[[prediction[0, 0]]]], axis=1)\n",
        "\n",
        "# Inverse transform the predictions\n",
        "predictions = scaler.inverse_transform([predictions])[0]\n",
        "\n",
        "# Print the predicted sales USD for the next 30 days\n",
        "print(predictions)\n"
      ]
    },
    {
      "cell_type": "code",
      "source": [
        "# Prepare the dates for plotting\n",
        "dates = pd.date_range(start=data.index[-1], periods=31, freq='D')[1:]\n",
        "\n",
        "# Plot the old and predicted values\n",
        "plt.figure(figsize=(10, 6))\n",
        "# plt.plot(data.index, data['Sales USD'], label='Actual')\n",
        "plt.plot(dates, predictions, label='Predicted')\n",
        "plt.xlabel('Date')\n",
        "plt.ylabel('Sales USD')\n",
        "plt.title('Actual vs. Predicted Sales USD')\n",
        "plt.legend()\n",
        "plt.show()"
      ],
      "metadata": {
        "id": "QeoVCjCWOd-r",
        "colab": {
          "base_uri": "https://localhost:8080/",
          "height": 564
        },
        "outputId": "576d1cf3-ff9f-435a-f3a6-c06250b3db29"
      },
      "execution_count": 18,
      "outputs": [
        {
          "output_type": "display_data",
          "data": {
            "text/plain": [
              "<Figure size 1000x600 with 1 Axes>"
            ],
            "image/png": "[encoded data removed]"
          },
          "metadata": {}
        }
      ]
    },
    {
      "cell_type": "code",
      "source": [
        "import json\n",
        "\n",
        "sales_usd = [2909408.26386851, 3075249.97923988, 3209946.29243958, 3306864.66961764, 3376323.96171412,\n",
        "             3428885.26972083, 3472379.02757125, 3511884.4206207, 3550328.19662376, 3589126.86478066,\n",
        "             3628739.89361659, 3669088.01646708, 3709838.03521279, 3750584.43828609, 3790952.03014189,\n",
        "             3830637.09429744, 3869427.14046628, 3907189.22315503, 3943855.20084514, 3979407.27330317,\n",
        "             4013855.73128909, 4047233.6721119, 4079582.25881139, 4110944.04507059, 4141361.30644387,\n",
        "             4170872.98094184, 4199513.55651675, 4227312.23667657, 4254297.3905433, 4280489.32150819]\n",
        "\n",
        "json_objects = []\n",
        "for value in sales_usd:\n",
        "    json_objects.append({'Sales USD': value})\n",
        "\n",
        "json_data = json.dumps(json_objects)\n",
        "\n",
        "print(json_data)\n"
      ],
      "metadata": {
        "colab": {
          "base_uri": "https://localhost:8080/"
        },
        "id": "hU8_oen5Lj-Y",
        "outputId": "d1551684-2705-4f5c-af63-db74c387ea43"
      },
      "execution_count": 19,
      "outputs": [
        {
          "output_type": "stream",
          "name": "stdout",
          "text": [
            "[{\"Sales USD\": 2909408.26386851}, {\"Sales USD\": 3075249.97923988}, {\"Sales USD\": 3209946.29243958}, {\"Sales USD\": 3306864.66961764}, {\"Sales USD\": 3376323.96171412}, {\"Sales USD\": 3428885.26972083}, {\"Sales USD\": 3472379.02757125}, {\"Sales USD\": 3511884.4206207}, {\"Sales USD\": 3550328.19662376}, {\"Sales USD\": 3589126.86478066}, {\"Sales USD\": 3628739.89361659}, {\"Sales USD\": 3669088.01646708}, {\"Sales USD\": 3709838.03521279}, {\"Sales USD\": 3750584.43828609}, {\"Sales USD\": 3790952.03014189}, {\"Sales USD\": 3830637.09429744}, {\"Sales USD\": 3869427.14046628}, {\"Sales USD\": 3907189.22315503}, {\"Sales USD\": 3943855.20084514}, {\"Sales USD\": 3979407.27330317}, {\"Sales USD\": 4013855.73128909}, {\"Sales USD\": 4047233.6721119}, {\"Sales USD\": 4079582.25881139}, {\"Sales USD\": 4110944.04507059}, {\"Sales USD\": 4141361.30644387}, {\"Sales USD\": 4170872.98094184}, {\"Sales USD\": 4199513.55651675}, {\"Sales USD\": 4227312.23667657}, {\"Sales USD\": 4254297.3905433}, {\"Sales USD\": 4280489.32150819}]\n"
          ]
        }
      ]
    },
    {
      "cell_type": "code",
      "source": [
        "import json\n",
        "\n",
        "# Inverse transform the predictions\n",
        "predictions = scaler.inverse_transform([predictions])[0]\n",
        "\n",
        "# Prepare the dates for plotting\n",
        "dates = pd.date_range(start=data.index[-1], periods=31, freq='D')[1:]\n",
        "\n",
        "# Create an array of objects for datetime and prediction\n",
        "result = []\n",
        "for date, prediction in zip(dates, predictions):\n",
        "    result.append({'DateTime': str(date), 'Prediction': prediction})\n",
        "\n",
        "# Convert the array of objects to a JSON string\n",
        "json_data = json.dumps(result)\n",
        "\n",
        "# Print the JSON data\n",
        "print(json_data)\n"
      ],
      "metadata": {
        "colab": {
          "base_uri": "https://localhost:8080/"
        },
        "id": "2oxw7T44KWA8",
        "outputId": "da59129b-3983-4be7-d06e-a83961d19efd"
      },
      "execution_count": 20,
      "outputs": [
        {
          "output_type": "stream",
          "name": "stdout",
          "text": [
            "[{\"DateTime\": \"2023-05-21 00:00:00\", \"Prediction\": 54303807718030.11}, {\"DateTime\": \"2023-05-22 00:00:00\", \"Prediction\": 57399226346611.445}, {\"DateTime\": \"2023-05-23 00:00:00\", \"Prediction\": 59913319234193.555}, {\"DateTime\": \"2023-05-24 00:00:00\", \"Prediction\": 61722290815903.44}, {\"DateTime\": \"2023-05-25 00:00:00\", \"Prediction\": 63018741387474.445}, {\"DateTime\": \"2023-05-26 00:00:00\", \"Prediction\": 63999792817039.16}, {\"DateTime\": \"2023-05-27 00:00:00\", \"Prediction\": 64811599351816.7}, {\"DateTime\": \"2023-05-28 00:00:00\", \"Prediction\": 65548963466152.305}, {\"DateTime\": \"2023-05-29 00:00:00\", \"Prediction\": 66266512607069.03}, {\"DateTime\": \"2023-05-30 00:00:00\", \"Prediction\": 66990685773681.98}, {\"DateTime\": \"2023-05-31 00:00:00\", \"Prediction\": 67730058898945.82}, {\"DateTime\": \"2023-06-01 00:00:00\", \"Prediction\": 68483152478688.625}, {\"DateTime\": \"2023-06-02 00:00:00\", \"Prediction\": 69243747404145.41}, {\"DateTime\": \"2023-06-03 00:00:00\", \"Prediction\": 70004274843446.984}, {\"DateTime\": \"2023-06-04 00:00:00\", \"Prediction\": 70757731810179.38}, {\"DateTime\": \"2023-06-05 00:00:00\", \"Prediction\": 71498449467304.77}, {\"DateTime\": \"2023-06-06 00:00:00\", \"Prediction\": 72222461705393.75}, {\"DateTime\": \"2023-06-07 00:00:00\", \"Prediction\": 72927287110431.58}, {\"DateTime\": \"2023-06-08 00:00:00\", \"Prediction\": 73611653827954.66}, {\"DateTime\": \"2023-06-09 00:00:00\", \"Prediction\": 74275229618429.62}, {\"DateTime\": \"2023-06-10 00:00:00\", \"Prediction\": 74918206557836.69}, {\"DateTime\": \"2023-06-11 00:00:00\", \"Prediction\": 75541202404058.19}, {\"DateTime\": \"2023-06-12 00:00:00\", \"Prediction\": 76144985461015.0}, {\"DateTime\": \"2023-06-13 00:00:00\", \"Prediction\": 76730349988841.55}, {\"DateTime\": \"2023-06-14 00:00:00\", \"Prediction\": 77298085056429.55}, {\"DateTime\": \"2023-06-15 00:00:00\", \"Prediction\": 77848917437758.2}, {\"DateTime\": \"2023-06-16 00:00:00\", \"Prediction\": 78383490846923.39}, {\"DateTime\": \"2023-06-17 00:00:00\", \"Prediction\": 78902350364409.52}, {\"DateTime\": \"2023-06-18 00:00:00\", \"Prediction\": 79406025496972.86}, {\"DateTime\": \"2023-06-19 00:00:00\", \"Prediction\": 79894895205331.16}]\n"
          ]
        }
      ]
    },
    {
      "cell_type": "code",
      "source": [],
      "metadata": {
        "colab": {
          "base_uri": "https://localhost:8080/"
        },
        "id": "9kYWBjRgaIh2",
        "outputId": "96293b6d-9939-46a3-9490-b7b91a0c4704"
      },
      "execution_count": null,
      "outputs": [
        {
          "output_type": "stream",
          "name": "stdout",
          "text": [
            "Cloning into 'prophet'...\n",
            "remote: Enumerating objects: 5704, done.\u001b[K\n",
            "remote: Counting objects: 100% (197/197), done.\u001b[K\n",
            "remote: Compressing objects: 100% (126/126), done.\u001b[K\n",
            "remote: Total 5704 (delta 109), reused 123 (delta 65), pack-reused 5507\u001b[K\n",
            "Receiving objects: 100% (5704/5704), 58.72 MiB | 27.40 MiB/s, done.\n",
            "Resolving deltas: 100% (3658/3658), done.\n",
            "python3: can't open file '/content/setup.py': [Errno 2] No such file or directory\n"
          ]
        }
      ]
    },
    {
      "cell_type": "code",
      "source": [],
      "metadata": {
        "colab": {
          "base_uri": "https://localhost:8080/",
          "height": 373
        },
        "id": "0Cvd9SUsO72_",
        "outputId": "6e0b9296-b92e-4cdd-a0d4-9590ab2cd1eb"
      },
      "execution_count": null,
      "outputs": [
        {
          "output_type": "error",
          "ename": "ModuleNotFoundError",
          "evalue": "ignored",
          "traceback": [
            "\u001b[0;31m---------------------------------------------------------------------------\u001b[0m",
            "\u001b[0;31mModuleNotFoundError\u001b[0m                       Traceback (most recent call last)",
            "\u001b[0;32m<ipython-input-2-50d675912664>\u001b[0m in \u001b[0;36m<cell line: 2>\u001b[0;34m()\u001b[0m\n\u001b[1;32m      1\u001b[0m \u001b[0;32mimport\u001b[0m \u001b[0mpandas\u001b[0m \u001b[0;32mas\u001b[0m \u001b[0mpd\u001b[0m\u001b[0;34m\u001b[0m\u001b[0;34m\u001b[0m\u001b[0m\n\u001b[0;32m----> 2\u001b[0;31m \u001b[0;32mfrom\u001b[0m \u001b[0mfbprophet\u001b[0m \u001b[0;32mimport\u001b[0m \u001b[0mProphet\u001b[0m\u001b[0;34m\u001b[0m\u001b[0;34m\u001b[0m\u001b[0m\n\u001b[0m\u001b[1;32m      3\u001b[0m \u001b[0;34m\u001b[0m\u001b[0m\n\u001b[1;32m      4\u001b[0m \u001b[0;31m# Load the time series data from CSV\u001b[0m\u001b[0;34m\u001b[0m\u001b[0;34m\u001b[0m\u001b[0m\n\u001b[1;32m      5\u001b[0m \u001b[0mdata\u001b[0m \u001b[0;34m=\u001b[0m \u001b[0mpd\u001b[0m\u001b[0;34m.\u001b[0m\u001b[0mread_csv\u001b[0m\u001b[0;34m(\u001b[0m\u001b[0;34m'/content/active_market_walletvs sales in usd.csv'\u001b[0m\u001b[0;34m)\u001b[0m\u001b[0;34m\u001b[0m\u001b[0;34m\u001b[0m\u001b[0m\n",
            "\u001b[0;31mModuleNotFoundError\u001b[0m: No module named 'fbprophet'",
            "",
            "\u001b[0;31m---------------------------------------------------------------------------\u001b[0;32m\nNOTE: If your import is failing due to a missing package, you can\nmanually install dependencies using either !pip or !apt.\n\nTo view examples of installing some common dependencies, click the\n\"Open Examples\" button below.\n\u001b[0;31m---------------------------------------------------------------------------\u001b[0m\n"
          ],
          "errorDetails": {
            "actions": [
              {
                "action": "open_url",
                "actionText": "Open Examples",
                "url": "/notebooks/snippets/importing_libraries.ipynb"
              }
            ]
          }
        }
      ]
    },
    {
      "cell_type": "code",
      "source": [],
      "metadata": {
        "colab": {
          "base_uri": "https://localhost:8080/",
          "height": 381,
          "referenced_widgets": [
            "61c68dc452e040f59f45d2563de629fd",
            "e63b6fe391e5401d893bf4e4d53536f3",
            "694471f7c1d54da3b711a70ae36a94e9",
            "0b2b2e82fe7d4344a055ced44bcdd028",
            "9577ab0be4ba48babfff8465c6f55539",
            "04892956e0e94c489c32f36354ae954f",
            "ed36ed6c2e50443488859555c8754ab1",
            "aa8831e3ea7b41c8b19eca93e295623b",
            "bd4384b824834e2c901c3193a71ea632",
            "83510dd002984ffc819b406864ea22f5",
            "acebdca3de5f42549c7fde7a0ccfddc6"
          ]
        },
        "id": "iAh-qMcuS--J",
        "outputId": "4c879d75-6268-4cbb-fc15-dda9d02b3d49"
      },
      "execution_count": null,
      "outputs": [
        {
          "output_type": "stream",
          "name": "stderr",
          "text": [
            "/usr/local/lib/python3.10/dist-packages/torchvision/io/image.py:13: UserWarning: Failed to load image Python extension: '/usr/local/lib/python3.10/dist-packages/torchvision/image.so: undefined symbol: _ZN3c104cuda20CUDACachingAllocator9allocatorE'If you don't plan on using image functionality from `torchvision.io`, you can ignore this warning. Otherwise, there might be something wrong with your environment. Did you have `libjpeg` or `libpng` installed before building `torchvision` from source?\n",
            "  warn(\n",
            "INFO - (NP.config.__post_init__) - Note: Trend changepoint regularization is experimental.\n",
            "INFO:NP.config:Note: Trend changepoint regularization is experimental.\n",
            "WARNING - (NP.forecaster.fit) - When Global modeling with local normalization, metrics are displayed in normalized scale.\n",
            "WARNING:NP.forecaster:When Global modeling with local normalization, metrics are displayed in normalized scale.\n",
            "INFO - (NP.df_utils._infer_frequency) - Major frequency D corresponds to 99.726% of the data.\n",
            "INFO:NP.df_utils:Major frequency D corresponds to 99.726% of the data.\n",
            "INFO - (NP.df_utils._infer_frequency) - Dataframe freq automatically defined as D\n",
            "INFO:NP.df_utils:Dataframe freq automatically defined as D\n",
            "INFO - (NP.config.init_data_params) - Setting normalization to global as only one dataframe provided for training.\n",
            "INFO:NP.config:Setting normalization to global as only one dataframe provided for training.\n",
            "INFO - (NP.config.set_auto_batch_epoch) - Auto-set batch_size to 16\n",
            "INFO:NP.config:Auto-set batch_size to 16\n",
            "INFO - (NP.config.set_auto_batch_epoch) - Auto-set epochs to 278\n",
            "INFO:NP.config:Auto-set epochs to 278\n",
            "WARNING - (NP.config.set_lr_finder_args) - Learning rate finder: The number of batches (23) is too small than the required number for the learning rate finder (216). The results might not be optimal.\n",
            "WARNING:NP.config:Learning rate finder: The number of batches (23) is too small than the required number for the learning rate finder (216). The results might not be optimal.\n"
          ]
        },
        {
          "output_type": "display_data",
          "data": {
            "text/plain": [
              "Finding best initial lr:   0%|          | 0/216 [00:00<?, ?it/s]"
            ],
            "application/vnd.jupyter.widget-view+json": {
              "version_major": 2,
              "version_minor": 0,
              "model_id": "61c68dc452e040f59f45d2563de629fd"
            }
          },
          "metadata": {
            "application/vnd.jupyter.widget-view+json": {
              "colab": {
                "custom_widget_manager": {
                  "url": "https://ssl.gstatic.com/colaboratory-static/widgets/colab-cdn-widget-manager/b3e629b1971e1542/manager.min.js"
                }
              }
            }
          }
        }
      ]
    },
    {
      "cell_type": "code",
      "source": [],
      "metadata": {
        "colab": {
          "base_uri": "https://localhost:8080/",
          "height": 624
        },
        "id": "I8sdTGhHbnMf",
        "outputId": "768963a7-2f38-4494-cfe5-f1f2dc99d645"
      },
      "execution_count": null,
      "outputs": [
        {
          "output_type": "stream",
          "name": "stderr",
          "text": [
            "/usr/local/lib/python3.10/dist-packages/statsmodels/tsa/base/tsa_model.py:471: ValueWarning: No frequency information was provided, so inferred frequency D will be used.\n",
            "  self._init_dates(dates, freq)\n",
            "/usr/local/lib/python3.10/dist-packages/statsmodels/tsa/base/tsa_model.py:471: ValueWarning: No frequency information was provided, so inferred frequency D will be used.\n",
            "  self._init_dates(dates, freq)\n"
          ]
        },
        {
          "output_type": "stream",
          "name": "stdout",
          "text": [
            "Predicted Active Market Wallets: 2023-06-01    1.086664e-79\n",
            "2023-06-02    8.121069e-80\n",
            "2023-06-03    8.814766e-80\n",
            "Freq: D, Name: predicted_mean, dtype: float64\n"
          ]
        },
        {
          "output_type": "display_data",
          "data": {
            "text/plain": [
              "<Figure size 640x480 with 1 Axes>"
            ],
            "image/png": "[encoded data removed]"
          },
          "metadata": {}
        }
      ]
    }
  ]
}